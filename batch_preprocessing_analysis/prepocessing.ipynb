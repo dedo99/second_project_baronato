{
 "cells": [
  {
   "cell_type": "code",
   "execution_count": 2,
   "metadata": {},
   "outputs": [
    {
     "name": "stdout",
     "output_type": "stream",
     "text": [
      "                       time  use [kW]  gen [kW]  House overall [kW]  \\\n",
      "0       2016-01-01 05:00:00  0.932833  0.003483            0.932833   \n",
      "1       2016-01-01 05:01:00  0.934333  0.003467            0.934333   \n",
      "2       2016-01-01 05:02:00  0.931817  0.003467            0.931817   \n",
      "3       2016-01-01 05:03:00  1.022050  0.003483            1.022050   \n",
      "4       2016-01-01 05:04:00  1.139400  0.003467            1.139400   \n",
      "...                     ...       ...       ...                 ...   \n",
      "503905  2016-12-16 03:25:00  1.601233  0.003183            1.601233   \n",
      "503906  2016-12-16 03:26:00  1.599333  0.003233            1.599333   \n",
      "503907  2016-12-16 03:27:00  1.924267  0.003217            1.924267   \n",
      "503908  2016-12-16 03:28:00  1.978200  0.003217            1.978200   \n",
      "503909  2016-12-16 03:29:00  1.990950  0.003233            1.990950   \n",
      "\n",
      "        Dishwasher [kW]  Furnace 1 [kW]  Furnace 2 [kW]  Home office [kW]  \\\n",
      "0              0.000033        0.020700        0.061917          0.442633   \n",
      "1              0.000000        0.020717        0.063817          0.444067   \n",
      "2              0.000017        0.020700        0.062317          0.446067   \n",
      "3              0.000017        0.106900        0.068517          0.446583   \n",
      "4              0.000133        0.236933        0.063983          0.446533   \n",
      "...                 ...             ...             ...               ...   \n",
      "503905         0.000050        0.085267        0.642417          0.041783   \n",
      "503906         0.000050        0.104017        0.625033          0.041750   \n",
      "503907         0.000033        0.422383        0.637733          0.042033   \n",
      "503908         0.000050        0.495667        0.620367          0.042100   \n",
      "503909         0.000050        0.494700        0.634133          0.042100   \n",
      "\n",
      "        Fridge [kW]  Wine cellar [kW]  ...  humidity  visibility     summary  \\\n",
      "0          0.124150          0.006983  ...      0.62       10.00       Clear   \n",
      "1          0.124000          0.006983  ...      0.62       10.00       Clear   \n",
      "2          0.123533          0.006983  ...      0.62       10.00       Clear   \n",
      "3          0.123133          0.006983  ...      0.62       10.00       Clear   \n",
      "4          0.122850          0.006850  ...      0.62       10.00       Clear   \n",
      "...             ...               ...  ...       ...         ...         ...   \n",
      "503905     0.005267          0.008667  ...      0.86        8.74  Light Rain   \n",
      "503906     0.005233          0.008433  ...      0.86        8.74  Light Rain   \n",
      "503907     0.004983          0.008467  ...      0.86        8.74  Light Rain   \n",
      "503908     0.005333          0.008233  ...      0.86        8.74  Light Rain   \n",
      "503909     0.004917          0.008133  ...      0.86        8.74  Light Rain   \n",
      "\n",
      "        apparentTemperature  pressure  windSpeed  windBearing  \\\n",
      "0                 -1.522222   1016.91       9.18          282   \n",
      "1                 -1.522222   1016.91       9.18          282   \n",
      "2                 -1.522222   1016.91       9.18          282   \n",
      "3                 -1.522222   1016.91       9.18          282   \n",
      "4                 -1.522222   1016.91       9.18          282   \n",
      "...                     ...       ...        ...          ...   \n",
      "503905            -1.416667   1011.49       6.72          186   \n",
      "503906            -1.416667   1011.49       6.72          186   \n",
      "503907            -1.416667   1011.49       6.72          186   \n",
      "503908            -1.416667   1011.49       6.72          186   \n",
      "503909            -1.416667   1011.49       6.72          186   \n",
      "\n",
      "        precipIntensity  dewPoint  precipProbability  \n",
      "0                0.0000     24.40               0.00  \n",
      "1                0.0000     24.40               0.00  \n",
      "2                0.0000     24.40               0.00  \n",
      "3                0.0000     24.40               0.00  \n",
      "4                0.0000     24.40               0.00  \n",
      "...                 ...       ...                ...  \n",
      "503905           0.0101     31.27               0.51  \n",
      "503906           0.0101     31.27               0.51  \n",
      "503907           0.0101     31.27               0.51  \n",
      "503908           0.0101     31.27               0.51  \n",
      "503909           0.0101     31.27               0.51  \n",
      "\n",
      "[503910 rows x 30 columns]\n"
     ]
    }
   ],
   "source": [
    "import pandas as pd\n",
    "from datetime import timedelta\n",
    "\n",
    "# Leggi il dataset\n",
    "df = pd.read_csv('/home/pietro/Documenti/BigData/second_project_baronato/datasets/test/preprocessed.csv', low_memory=False)\n",
    "\n",
    "# Elimina gli attributi \"icon\" e \"cloudCover\"\n",
    "#df = df.drop(['icon', 'cloudCover'], axis=1)\n",
    "\n",
    "# Conversione da Fahrenheit a Celsius\n",
    "#df['temperature'] = (df['temperature'] - 32) * 5/9\n",
    "\n",
    "# Conversione dell'attributo \"time\" da UNIX time a data incrementando di 60 secondi\n",
    "#start_time = pd.to_datetime(df['time'].iloc[0], unit='s')\n",
    "#df['time'] = start_time\n",
    "\n",
    "#for i in range(1, len(df)):\n",
    "#    df.loc[i, 'time'] = df.loc[i-1, 'time'] + timedelta(seconds=60)\n",
    "\n",
    "# Visualizza il DataFrame preprocessato\n",
    "print(df)"
   ]
  },
  {
   "cell_type": "code",
   "execution_count": 12,
   "metadata": {},
   "outputs": [],
   "source": [
    "timestamp = df.iloc[:, 0].tolist()"
   ]
  },
  {
   "cell_type": "code",
   "execution_count": 13,
   "metadata": {},
   "outputs": [
    {
     "name": "stdout",
     "output_type": "stream",
     "text": [
      "2016-01-01 05:00:00\n"
     ]
    }
   ],
   "source": [
    "print(timestamp[0])"
   ]
  },
  {
   "cell_type": "code",
   "execution_count": 4,
   "metadata": {},
   "outputs": [],
   "source": [
    "df['temperature'] = (df['temperature'] - 32) * 5/9"
   ]
  },
  {
   "cell_type": "code",
   "execution_count": 2,
   "metadata": {},
   "outputs": [
    {
     "name": "stdout",
     "output_type": "stream",
     "text": [
      "Maximum: 34.28888888888889\n",
      "Minimum: -24.8\n",
      "Average: 10.412185895188516\n"
     ]
    }
   ],
   "source": [
    "max_value = df['temperature'].max()\n",
    "\n",
    "# Minimum value\n",
    "min_value = df['temperature'].min()\n",
    "\n",
    "# Average value\n",
    "avg_value = df['temperature'].mean()\n",
    "\n",
    "print(\"Maximum:\", max_value)\n",
    "print(\"Minimum:\", min_value)\n",
    "print(\"Average:\", avg_value)"
   ]
  },
  {
   "cell_type": "code",
   "execution_count": 11,
   "metadata": {},
   "outputs": [
    {
     "name": "stdout",
     "output_type": "stream",
     "text": [
      "                      time  use [kW]  gen [kW] House overall [kW]  \\\n",
      "0      2016-01-01 05:00:00  0.932833  0.003483           0.932833   \n",
      "1      2016-01-01 05:01:00  0.934333  0.003467           0.934333   \n",
      "2      2016-01-01 05:02:00  0.931817  0.003467           0.931817   \n",
      "3      2016-01-01 05:03:00   1.02205  0.003483            1.02205   \n",
      "4      2016-01-01 05:04:00    1.1394  0.003467             1.1394   \n",
      "...                    ...       ...       ...                ...   \n",
      "503905 2016-12-16 03:25:00  1.601233  0.003183           1.601233   \n",
      "503906 2016-12-16 03:26:00  1.599333  0.003233           1.599333   \n",
      "503907 2016-12-16 03:27:00  1.924267  0.003217           1.924267   \n",
      "503908 2016-12-16 03:28:00    1.9782  0.003217             1.9782   \n",
      "503909 2016-12-16 03:29:00   1.99095  0.003233            1.99095   \n",
      "\n",
      "       Dishwasher [kW] Furnace 1 [kW] Furnace 2 [kW] Home office [kW]  \\\n",
      "0             0.000033         0.0207       0.061917         0.442633   \n",
      "1                  0.0       0.020717       0.063817         0.444067   \n",
      "2             0.000017         0.0207       0.062317         0.446067   \n",
      "3             0.000017         0.1069       0.068517         0.446583   \n",
      "4             0.000133       0.236933       0.063983         0.446533   \n",
      "...                ...            ...            ...              ...   \n",
      "503905        0.000050       0.085267       0.642417         0.041783   \n",
      "503906        0.000050       0.104017       0.625033          0.04175   \n",
      "503907        0.000033       0.422383       0.637733         0.042033   \n",
      "503908        0.000050       0.495667       0.620367           0.0421   \n",
      "503909        0.000050         0.4947       0.634133           0.0421   \n",
      "\n",
      "       Fridge [kW] Wine cellar [kW]  ... humidity visibility     summary  \\\n",
      "0          0.12415         0.006983  ...     0.62      10.00       Clear   \n",
      "1            0.124         0.006983  ...     0.62      10.00       Clear   \n",
      "2         0.123533         0.006983  ...     0.62      10.00       Clear   \n",
      "3         0.123133         0.006983  ...     0.62      10.00       Clear   \n",
      "4          0.12285          0.00685  ...     0.62      10.00       Clear   \n",
      "...            ...              ...  ...      ...        ...         ...   \n",
      "503905    0.005267         0.008667  ...     0.86       8.74  Light Rain   \n",
      "503906    0.005233         0.008433  ...     0.86       8.74  Light Rain   \n",
      "503907    0.004983         0.008467  ...     0.86       8.74  Light Rain   \n",
      "503908    0.005333         0.008233  ...     0.86       8.74  Light Rain   \n",
      "503909    0.004917         0.008133  ...     0.86       8.74  Light Rain   \n",
      "\n",
      "       apparentTemperature pressure windSpeed windBearing precipIntensity  \\\n",
      "0                    29.26  1016.91      9.18         282          0.0000   \n",
      "1                    29.26  1016.91      9.18         282          0.0000   \n",
      "2                    29.26  1016.91      9.18         282          0.0000   \n",
      "3                    29.26  1016.91      9.18         282          0.0000   \n",
      "4                    29.26  1016.91      9.18         282          0.0000   \n",
      "...                    ...      ...       ...         ...             ...   \n",
      "503905               29.45  1011.49      6.72         186          0.0101   \n",
      "503906               29.45  1011.49      6.72         186          0.0101   \n",
      "503907               29.45  1011.49      6.72         186          0.0101   \n",
      "503908               29.45  1011.49      6.72         186          0.0101   \n",
      "503909               29.45  1011.49      6.72         186          0.0101   \n",
      "\n",
      "       dewPoint  precipProbability  \n",
      "0         24.40               0.00  \n",
      "1         24.40               0.00  \n",
      "2         24.40               0.00  \n",
      "3         24.40               0.00  \n",
      "4         24.40               0.00  \n",
      "...         ...                ...  \n",
      "503905    31.27               0.51  \n",
      "503906    31.27               0.51  \n",
      "503907    31.27               0.51  \n",
      "503908    31.27               0.51  \n",
      "503909    31.27               0.51  \n",
      "\n",
      "[503910 rows x 30 columns]\n"
     ]
    }
   ],
   "source": [
    "import re\n",
    "pattern = r\"[-+]?\\d+(?:\\.\\d+)?[eE][-+]?\\d+\"\n",
    "\n",
    "for i in range(1, len(df)):\n",
    "    for column in df.columns:\n",
    "        if re.fullmatch(pattern, str(df.loc[i, column])):\n",
    "            y = float(df.loc[i, column])\n",
    "            df.loc[i, column] = \"{:f}\".format(y)\n",
    "\n",
    "print(df)"
   ]
  },
  {
   "cell_type": "code",
   "execution_count": 4,
   "metadata": {},
   "outputs": [],
   "source": [
    "df.to_csv('../HomeC2.csv', index = False)"
   ]
  },
  {
   "cell_type": "code",
   "execution_count": 13,
   "metadata": {},
   "outputs": [
    {
     "name": "stdout",
     "output_type": "stream",
     "text": [
      "0.000033\n"
     ]
    }
   ],
   "source": [
    "x = 3.33e-05\n",
    "y = \"{:f}\".format(x)\n",
    "print(y)"
   ]
  },
  {
   "cell_type": "code",
   "execution_count": null,
   "metadata": {},
   "outputs": [],
   "source": []
  }
 ],
 "metadata": {
  "kernelspec": {
   "display_name": "base",
   "language": "python",
   "name": "python3"
  },
  "language_info": {
   "codemirror_mode": {
    "name": "ipython",
    "version": 3
   },
   "file_extension": ".py",
   "mimetype": "text/x-python",
   "name": "python",
   "nbconvert_exporter": "python",
   "pygments_lexer": "ipython3",
   "version": "3.10.6"
  },
  "orig_nbformat": 4
 },
 "nbformat": 4,
 "nbformat_minor": 2
}
